{
 "cells": [
  {
   "cell_type": "code",
   "execution_count": 1,
   "metadata": {},
   "outputs": [],
   "source": [
    "%matplotlib inline\n",
    "import pandas as pd\n",
    "import matplotlib.pyplot as plt\n",
    "import seaborn as sns\n",
    "import numpy as np"
   ]
  },
  {
   "cell_type": "code",
   "execution_count": 2,
   "metadata": {},
   "outputs": [],
   "source": [
    "df = pd.read_csv('./data/developer_survey_2019/survey_results_public.csv')"
   ]
  },
  {
   "cell_type": "markdown",
   "metadata": {},
   "source": [
    "## Age vs dependents"
   ]
  },
  {
   "cell_type": "code",
   "execution_count": 3,
   "metadata": {},
   "outputs": [
    {
     "data": {
      "text/html": [
       "<div>\n",
       "<style scoped>\n",
       "    .dataframe tbody tr th:only-of-type {\n",
       "        vertical-align: middle;\n",
       "    }\n",
       "\n",
       "    .dataframe tbody tr th {\n",
       "        vertical-align: top;\n",
       "    }\n",
       "\n",
       "    .dataframe thead th {\n",
       "        text-align: right;\n",
       "    }\n",
       "</style>\n",
       "<table border=\"1\" class=\"dataframe\">\n",
       "  <thead>\n",
       "    <tr style=\"text-align: right;\">\n",
       "      <th></th>\n",
       "      <th>Age</th>\n",
       "      <th>Dependents</th>\n",
       "    </tr>\n",
       "  </thead>\n",
       "  <tbody>\n",
       "    <tr>\n",
       "      <th>0</th>\n",
       "      <td>14.0</td>\n",
       "      <td>No</td>\n",
       "    </tr>\n",
       "    <tr>\n",
       "      <th>1</th>\n",
       "      <td>19.0</td>\n",
       "      <td>No</td>\n",
       "    </tr>\n",
       "    <tr>\n",
       "      <th>2</th>\n",
       "      <td>28.0</td>\n",
       "      <td>Yes</td>\n",
       "    </tr>\n",
       "    <tr>\n",
       "      <th>3</th>\n",
       "      <td>22.0</td>\n",
       "      <td>No</td>\n",
       "    </tr>\n",
       "    <tr>\n",
       "      <th>4</th>\n",
       "      <td>30.0</td>\n",
       "      <td>No</td>\n",
       "    </tr>\n",
       "  </tbody>\n",
       "</table>\n",
       "</div>"
      ],
      "text/plain": [
       "    Age Dependents\n",
       "0  14.0         No\n",
       "1  19.0         No\n",
       "2  28.0        Yes\n",
       "3  22.0         No\n",
       "4  30.0         No"
      ]
     },
     "execution_count": 3,
     "metadata": {},
     "output_type": "execute_result"
    }
   ],
   "source": [
    "age_vs_dep = df[['Age','Dependents']].dropna(how='any')\n",
    "age_vs_dep.head()"
   ]
  },
  {
   "cell_type": "code",
   "execution_count": 4,
   "metadata": {},
   "outputs": [
    {
     "data": {
      "text/html": [
       "<div>\n",
       "<style scoped>\n",
       "    .dataframe tbody tr th:only-of-type {\n",
       "        vertical-align: middle;\n",
       "    }\n",
       "\n",
       "    .dataframe tbody tr th {\n",
       "        vertical-align: top;\n",
       "    }\n",
       "\n",
       "    .dataframe thead th {\n",
       "        text-align: right;\n",
       "    }\n",
       "</style>\n",
       "<table border=\"1\" class=\"dataframe\">\n",
       "  <thead>\n",
       "    <tr style=\"text-align: right;\">\n",
       "      <th></th>\n",
       "      <th>Age</th>\n",
       "    </tr>\n",
       "    <tr>\n",
       "      <th>Dependents</th>\n",
       "      <th></th>\n",
       "    </tr>\n",
       "  </thead>\n",
       "  <tbody>\n",
       "    <tr>\n",
       "      <th>No</th>\n",
       "      <td>28.061923</td>\n",
       "    </tr>\n",
       "    <tr>\n",
       "      <th>Yes</th>\n",
       "      <td>34.113780</td>\n",
       "    </tr>\n",
       "  </tbody>\n",
       "</table>\n",
       "</div>"
      ],
      "text/plain": [
       "                  Age\n",
       "Dependents           \n",
       "No          28.061923\n",
       "Yes         34.113780"
      ]
     },
     "execution_count": 4,
     "metadata": {},
     "output_type": "execute_result"
    }
   ],
   "source": [
    "grouped = age_vs_dep.groupby('Dependents')\n",
    "grouped.mean()"
   ]
  },
  {
   "cell_type": "code",
   "execution_count": 5,
   "metadata": {},
   "outputs": [
    {
     "data": {
      "image/png": "[encoded data removed]",
      "text/plain": [
       "<matplotlib.figure.Figure at 0x2c54b8234a8>"
      ]
     },
     "metadata": {},
     "output_type": "display_data"
    }
   ],
   "source": [
    "ax = sns.barplot(x=\"Age\", y=\"Dependents\", data=age_vs_dep,ci='sd')"
   ]
  },
  {
   "cell_type": "markdown",
   "metadata": {},
   "source": [
    "## Conclusion\n",
    "Similar to population average"
   ]
  },
  {
   "cell_type": "markdown",
   "metadata": {},
   "source": [
    "## Imposter Syndrome"
   ]
  },
  {
   "cell_type": "code",
   "execution_count": 6,
   "metadata": {},
   "outputs": [
    {
     "data": {
      "text/html": [
       "<div>\n",
       "<style scoped>\n",
       "    .dataframe tbody tr th:only-of-type {\n",
       "        vertical-align: middle;\n",
       "    }\n",
       "\n",
       "    .dataframe tbody tr th {\n",
       "        vertical-align: top;\n",
       "    }\n",
       "\n",
       "    .dataframe thead th {\n",
       "        text-align: right;\n",
       "    }\n",
       "</style>\n",
       "<table border=\"1\" class=\"dataframe\">\n",
       "  <thead>\n",
       "    <tr style=\"text-align: right;\">\n",
       "      <th></th>\n",
       "      <th>ImpSyn</th>\n",
       "      <th>JobSat</th>\n",
       "    </tr>\n",
       "  </thead>\n",
       "  <tbody>\n",
       "    <tr>\n",
       "      <th>2</th>\n",
       "      <td>Average</td>\n",
       "      <td>Slightly satisfied</td>\n",
       "    </tr>\n",
       "    <tr>\n",
       "      <th>3</th>\n",
       "      <td>A little below average</td>\n",
       "      <td>Slightly satisfied</td>\n",
       "    </tr>\n",
       "    <tr>\n",
       "      <th>4</th>\n",
       "      <td>A little above average</td>\n",
       "      <td>Slightly dissatisfied</td>\n",
       "    </tr>\n",
       "    <tr>\n",
       "      <th>5</th>\n",
       "      <td>A little above average</td>\n",
       "      <td>Slightly satisfied</td>\n",
       "    </tr>\n",
       "    <tr>\n",
       "      <th>6</th>\n",
       "      <td>Average</td>\n",
       "      <td>Neither satisfied nor dissatisfied</td>\n",
       "    </tr>\n",
       "  </tbody>\n",
       "</table>\n",
       "</div>"
      ],
      "text/plain": [
       "                   ImpSyn                              JobSat\n",
       "2                 Average                  Slightly satisfied\n",
       "3  A little below average                  Slightly satisfied\n",
       "4  A little above average               Slightly dissatisfied\n",
       "5  A little above average                  Slightly satisfied\n",
       "6                 Average  Neither satisfied nor dissatisfied"
      ]
     },
     "execution_count": 6,
     "metadata": {},
     "output_type": "execute_result"
    }
   ],
   "source": [
    "imp_vs_sat = df[['ImpSyn','JobSat']].dropna(how='any')\n",
    "imp_vs_sat.head()"
   ]
  },
  {
   "cell_type": "code",
   "execution_count": 7,
   "metadata": {},
   "outputs": [
    {
     "data": {
      "text/plain": [
       "array(['Average', 'A little below average', 'A little above average',\n",
       "       'Far above average', 'Far below average'], dtype=object)"
      ]
     },
     "execution_count": 7,
     "metadata": {},
     "output_type": "execute_result"
    }
   ],
   "source": [
    "imp_vs_sat['ImpSyn'].unique()"
   ]
  },
  {
   "cell_type": "code",
   "execution_count": 8,
   "metadata": {},
   "outputs": [],
   "source": [
    "imp_syn_lut = {\n",
    "    'Far below average': 0,\n",
    "    'A little below average': 0.25,\n",
    "    'Average': 0.5,\n",
    "    'A little above average': 0.75,\n",
    "    'Far above average': 1,\n",
    "}"
   ]
  },
  {
   "cell_type": "code",
   "execution_count": 9,
   "metadata": {},
   "outputs": [],
   "source": [
    "sat_mapper_lut = {\n",
    "    'Very dissatisfied' : 0,\n",
    "    'Slightly dissatisfied' : 0.25,\n",
    "    'Neither satisfied nor dissatisfied' : 0.5,\n",
    "    'Slightly satisfied' : 0.75,\n",
    "    'Very satisfied' : 1,\n",
    "}"
   ]
  },
  {
   "cell_type": "code",
   "execution_count": 10,
   "metadata": {},
   "outputs": [],
   "source": [
    "imp_vs_sat['JobSatNum'] = imp_vs_sat.apply(lambda row: sat_mapper_lut[row['JobSat']], axis=1)\n",
    "imp_vs_sat['ImpSynNum'] = imp_vs_sat.apply(lambda row: imp_syn_lut[row['ImpSyn']], axis=1)\n",
    "# imp_vs_sat = imp_vs_sat[['JobSatNum','ImpSynNum']]"
   ]
  },
  {
   "cell_type": "code",
   "execution_count": 11,
   "metadata": {},
   "outputs": [
    {
     "data": {
      "text/html": [
       "<div>\n",
       "<style scoped>\n",
       "    .dataframe tbody tr th:only-of-type {\n",
       "        vertical-align: middle;\n",
       "    }\n",
       "\n",
       "    .dataframe tbody tr th {\n",
       "        vertical-align: top;\n",
       "    }\n",
       "\n",
       "    .dataframe thead th {\n",
       "        text-align: right;\n",
       "    }\n",
       "</style>\n",
       "<table border=\"1\" class=\"dataframe\">\n",
       "  <thead>\n",
       "    <tr style=\"text-align: right;\">\n",
       "      <th></th>\n",
       "      <th>JobSatNum</th>\n",
       "      <th>ImpSynNum</th>\n",
       "    </tr>\n",
       "  </thead>\n",
       "  <tbody>\n",
       "    <tr>\n",
       "      <th>JobSatNum</th>\n",
       "      <td>1.000000</td>\n",
       "      <td>0.110327</td>\n",
       "    </tr>\n",
       "    <tr>\n",
       "      <th>ImpSynNum</th>\n",
       "      <td>0.110327</td>\n",
       "      <td>1.000000</td>\n",
       "    </tr>\n",
       "  </tbody>\n",
       "</table>\n",
       "</div>"
      ],
      "text/plain": [
       "           JobSatNum  ImpSynNum\n",
       "JobSatNum   1.000000   0.110327\n",
       "ImpSynNum   0.110327   1.000000"
      ]
     },
     "execution_count": 11,
     "metadata": {},
     "output_type": "execute_result"
    }
   ],
   "source": [
    "imp_vs_sat.corr()"
   ]
  },
  {
   "cell_type": "code",
   "execution_count": 12,
   "metadata": {},
   "outputs": [],
   "source": [
    "grouped = imp_vs_sat.groupby(['JobSatNum','ImpSynNum'])\n",
    "sizes = grouped.size()\n",
    "sizes = sizes.reset_index()\n",
    "pivoted_sizes = sizes.pivot(index='JobSatNum',columns='ImpSynNum')"
   ]
  },
  {
   "cell_type": "code",
   "execution_count": 13,
   "metadata": {},
   "outputs": [
    {
     "name": "stderr",
     "output_type": "stream",
     "text": [
      "c:\\users\\windows\\appdata\\local\\programs\\python\\python35\\lib\\site-packages\\ipykernel_launcher.py:1: FutureWarning: sortlevel is deprecated, use sort_index(level= ...)\n",
      "  \"\"\"Entry point for launching an IPython kernel.\n"
     ]
    },
    {
     "data": {
      "text/html": [
       "<div>\n",
       "<style scoped>\n",
       "    .dataframe tbody tr th:only-of-type {\n",
       "        vertical-align: middle;\n",
       "    }\n",
       "\n",
       "    .dataframe tbody tr th {\n",
       "        vertical-align: top;\n",
       "    }\n",
       "\n",
       "    .dataframe thead tr th {\n",
       "        text-align: left;\n",
       "    }\n",
       "\n",
       "    .dataframe thead tr:last-of-type th {\n",
       "        text-align: right;\n",
       "    }\n",
       "</style>\n",
       "<table border=\"1\" class=\"dataframe\">\n",
       "  <thead>\n",
       "    <tr>\n",
       "      <th></th>\n",
       "      <th colspan=\"5\" halign=\"left\">0</th>\n",
       "    </tr>\n",
       "    <tr>\n",
       "      <th>ImpSynNum</th>\n",
       "      <th>0.00</th>\n",
       "      <th>0.25</th>\n",
       "      <th>0.50</th>\n",
       "      <th>0.75</th>\n",
       "      <th>1.00</th>\n",
       "    </tr>\n",
       "    <tr>\n",
       "      <th>JobSatNum</th>\n",
       "      <th></th>\n",
       "      <th></th>\n",
       "      <th></th>\n",
       "      <th></th>\n",
       "      <th></th>\n",
       "    </tr>\n",
       "  </thead>\n",
       "  <tbody>\n",
       "    <tr>\n",
       "      <th>1.00</th>\n",
       "      <td>344</td>\n",
       "      <td>1126</td>\n",
       "      <td>4542</td>\n",
       "      <td>10318</td>\n",
       "      <td>5847</td>\n",
       "    </tr>\n",
       "    <tr>\n",
       "      <th>0.75</th>\n",
       "      <td>362</td>\n",
       "      <td>1646</td>\n",
       "      <td>5753</td>\n",
       "      <td>11470</td>\n",
       "      <td>4740</td>\n",
       "    </tr>\n",
       "    <tr>\n",
       "      <th>0.50</th>\n",
       "      <td>239</td>\n",
       "      <td>752</td>\n",
       "      <td>2534</td>\n",
       "      <td>3529</td>\n",
       "      <td>1510</td>\n",
       "    </tr>\n",
       "    <tr>\n",
       "      <th>0.25</th>\n",
       "      <td>295</td>\n",
       "      <td>1119</td>\n",
       "      <td>2699</td>\n",
       "      <td>4584</td>\n",
       "      <td>1964</td>\n",
       "    </tr>\n",
       "    <tr>\n",
       "      <th>0.00</th>\n",
       "      <td>239</td>\n",
       "      <td>464</td>\n",
       "      <td>1163</td>\n",
       "      <td>1839</td>\n",
       "      <td>1078</td>\n",
       "    </tr>\n",
       "  </tbody>\n",
       "</table>\n",
       "</div>"
      ],
      "text/plain": [
       "             0                         \n",
       "ImpSynNum 0.00  0.25  0.50   0.75  1.00\n",
       "JobSatNum                              \n",
       "1.00       344  1126  4542  10318  5847\n",
       "0.75       362  1646  5753  11470  4740\n",
       "0.50       239   752  2534   3529  1510\n",
       "0.25       295  1119  2699   4584  1964\n",
       "0.00       239   464  1163   1839  1078"
      ]
     },
     "execution_count": 13,
     "metadata": {},
     "output_type": "execute_result"
    }
   ],
   "source": [
    "pivoted_sizes.sortlevel(level=0, inplace=True,ascending=False)\n",
    "pivoted_sizes"
   ]
  },
  {
   "cell_type": "code",
   "execution_count": 14,
   "metadata": {},
   "outputs": [
    {
     "data": {
      "text/plain": [
       "<matplotlib.axes._subplots.AxesSubplot at 0x2c5429b4438>"
      ]
     },
     "execution_count": 14,
     "metadata": {},
     "output_type": "execute_result"
    },
    {
     "data": {
      "image/png": "[encoded data removed]",
      "text/plain": [
       "<matplotlib.figure.Figure at 0x2c54b801908>"
      ]
     },
     "metadata": {},
     "output_type": "display_data"
    }
   ],
   "source": [
    "sns.heatmap(pivoted_sizes,annot=True, fmt=\"d\")"
   ]
  },
  {
   "cell_type": "code",
   "execution_count": 15,
   "metadata": {},
   "outputs": [
    {
     "data": {
      "text/html": [
       "<div>\n",
       "<style scoped>\n",
       "    .dataframe tbody tr th:only-of-type {\n",
       "        vertical-align: middle;\n",
       "    }\n",
       "\n",
       "    .dataframe tbody tr th {\n",
       "        vertical-align: top;\n",
       "    }\n",
       "\n",
       "    .dataframe thead th {\n",
       "        text-align: right;\n",
       "    }\n",
       "</style>\n",
       "<table border=\"1\" class=\"dataframe\">\n",
       "  <thead>\n",
       "    <tr style=\"text-align: right;\">\n",
       "      <th></th>\n",
       "      <th>ConvertedComp</th>\n",
       "      <th>ImpSynNum</th>\n",
       "    </tr>\n",
       "  </thead>\n",
       "  <tbody>\n",
       "    <tr>\n",
       "      <th>ConvertedComp</th>\n",
       "      <td>1.000000</td>\n",
       "      <td>0.009313</td>\n",
       "    </tr>\n",
       "    <tr>\n",
       "      <th>ImpSynNum</th>\n",
       "      <td>0.009313</td>\n",
       "      <td>1.000000</td>\n",
       "    </tr>\n",
       "  </tbody>\n",
       "</table>\n",
       "</div>"
      ],
      "text/plain": [
       "               ConvertedComp  ImpSynNum\n",
       "ConvertedComp       1.000000   0.009313\n",
       "ImpSynNum           0.009313   1.000000"
      ]
     },
     "execution_count": 15,
     "metadata": {},
     "output_type": "execute_result"
    }
   ],
   "source": [
    "americans = df[df['Country'] == 'United States']\n",
    "imp_vs_salary = americans[['ConvertedComp','ImpSyn']].dropna(how='any')\n",
    "imp_vs_salary['ImpSynNum'] = imp_vs_salary.apply(lambda row: imp_syn_lut[row['ImpSyn']], axis=1)\n",
    "imp_vs_salary.corr()"
   ]
  },
  {
   "cell_type": "code",
   "execution_count": 16,
   "metadata": {},
   "outputs": [
    {
     "data": {
      "text/plain": [
       "<matplotlib.axes._subplots.AxesSubplot at 0x2c542996588>"
      ]
     },
     "execution_count": 16,
     "metadata": {},
     "output_type": "execute_result"
    },
    {
     "data": {
      "image/png": "[encoded data removed]",
      "text/plain": [
       "<matplotlib.figure.Figure at 0x2c5429c7c50>"
      ]
     },
     "metadata": {},
     "output_type": "display_data"
    }
   ],
   "source": [
    "imp_vs_salary.groupby('ImpSynNum').mean().plot.bar()"
   ]
  },
  {
   "cell_type": "code",
   "execution_count": 17,
   "metadata": {},
   "outputs": [
    {
     "data": {
      "text/html": [
       "<div>\n",
       "<style scoped>\n",
       "    .dataframe tbody tr th:only-of-type {\n",
       "        vertical-align: middle;\n",
       "    }\n",
       "\n",
       "    .dataframe tbody tr th {\n",
       "        vertical-align: top;\n",
       "    }\n",
       "\n",
       "    .dataframe thead th {\n",
       "        text-align: right;\n",
       "    }\n",
       "</style>\n",
       "<table border=\"1\" class=\"dataframe\">\n",
       "  <thead>\n",
       "    <tr style=\"text-align: right;\">\n",
       "      <th></th>\n",
       "      <th>ConvertedComp</th>\n",
       "      <th>ImpSynNum</th>\n",
       "    </tr>\n",
       "  </thead>\n",
       "  <tbody>\n",
       "    <tr>\n",
       "      <th>ConvertedComp</th>\n",
       "      <td>1.000000</td>\n",
       "      <td>0.052923</td>\n",
       "    </tr>\n",
       "    <tr>\n",
       "      <th>ImpSynNum</th>\n",
       "      <td>0.052923</td>\n",
       "      <td>1.000000</td>\n",
       "    </tr>\n",
       "  </tbody>\n",
       "</table>\n",
       "</div>"
      ],
      "text/plain": [
       "               ConvertedComp  ImpSynNum\n",
       "ConvertedComp       1.000000   0.052923\n",
       "ImpSynNum           0.052923   1.000000"
      ]
     },
     "execution_count": 17,
     "metadata": {},
     "output_type": "execute_result"
    }
   ],
   "source": [
    "indians = df[df['Country'] == 'India']\n",
    "imp_vs_salary = indians[['ConvertedComp','ImpSyn']].dropna(how='any')\n",
    "imp_vs_salary['ImpSynNum'] = imp_vs_salary.apply(lambda row: imp_syn_lut[row['ImpSyn']], axis=1)\n",
    "imp_vs_salary.corr()"
   ]
  },
  {
   "cell_type": "code",
   "execution_count": 18,
   "metadata": {},
   "outputs": [
    {
     "data": {
      "text/plain": [
       "<matplotlib.axes._subplots.AxesSubplot at 0x2c542a51710>"
      ]
     },
     "execution_count": 18,
     "metadata": {},
     "output_type": "execute_result"
    },
    {
     "data": {
      "image/png": "[encoded data removed]",
      "text/plain": [
       "<matplotlib.figure.Figure at 0x2c5429e7a58>"
      ]
     },
     "metadata": {},
     "output_type": "display_data"
    }
   ],
   "source": [
    "imp_vs_salary.groupby('ImpSynNum').mean().plot.bar()"
   ]
  },
  {
   "cell_type": "markdown",
   "metadata": {},
   "source": [
    "## Conclusion\n",
    "Self confidence and job satisfaction are mildly correlated.\n",
    "Self confidence and salary are significantly correlated in India but not in USA"
   ]
  },
  {
   "cell_type": "markdown",
   "metadata": {},
   "source": [
    "## Open source contribution vs job satisfaction"
   ]
  },
  {
   "cell_type": "code",
   "execution_count": 19,
   "metadata": {},
   "outputs": [
    {
     "data": {
      "text/plain": [
       "array(['Never', 'Less than once per year', 'Once a month or more often',\n",
       "       'Less than once a month but more than once per year'], dtype=object)"
      ]
     },
     "execution_count": 19,
     "metadata": {},
     "output_type": "execute_result"
    }
   ],
   "source": [
    "df['OpenSourcer'].unique()"
   ]
  },
  {
   "cell_type": "code",
   "execution_count": 20,
   "metadata": {},
   "outputs": [],
   "source": [
    "open_sourcer_lut = {\n",
    "    'Never':0,\n",
    "    'Less than once per year':0.33,\n",
    "    'Less than once a month but more than once per year':0.66,\n",
    "    'Once a month or more often':1,\n",
    "}"
   ]
  },
  {
   "cell_type": "code",
   "execution_count": 21,
   "metadata": {},
   "outputs": [
    {
     "data": {
      "text/html": [
       "<div>\n",
       "<style scoped>\n",
       "    .dataframe tbody tr th:only-of-type {\n",
       "        vertical-align: middle;\n",
       "    }\n",
       "\n",
       "    .dataframe tbody tr th {\n",
       "        vertical-align: top;\n",
       "    }\n",
       "\n",
       "    .dataframe thead th {\n",
       "        text-align: right;\n",
       "    }\n",
       "</style>\n",
       "<table border=\"1\" class=\"dataframe\">\n",
       "  <thead>\n",
       "    <tr style=\"text-align: right;\">\n",
       "      <th></th>\n",
       "      <th>JobSatNum</th>\n",
       "      <th>OpenSourcerNum</th>\n",
       "    </tr>\n",
       "  </thead>\n",
       "  <tbody>\n",
       "    <tr>\n",
       "      <th>JobSatNum</th>\n",
       "      <td>1.000000</td>\n",
       "      <td>0.054571</td>\n",
       "    </tr>\n",
       "    <tr>\n",
       "      <th>OpenSourcerNum</th>\n",
       "      <td>0.054571</td>\n",
       "      <td>1.000000</td>\n",
       "    </tr>\n",
       "  </tbody>\n",
       "</table>\n",
       "</div>"
      ],
      "text/plain": [
       "                JobSatNum  OpenSourcerNum\n",
       "JobSatNum        1.000000        0.054571\n",
       "OpenSourcerNum   0.054571        1.000000"
      ]
     },
     "execution_count": 21,
     "metadata": {},
     "output_type": "execute_result"
    }
   ],
   "source": [
    "open_vs_job_sat = df[['JobSat','OpenSourcer']].dropna(how='any')\n",
    "open_vs_job_sat['JobSatNum'] = open_vs_job_sat.apply(lambda row: sat_mapper_lut[row['JobSat']], axis=1)\n",
    "open_vs_job_sat['OpenSourcerNum'] = open_vs_job_sat.apply(lambda row: open_sourcer_lut[row['OpenSourcer']], axis=1)\n",
    "open_vs_job_sat.corr()"
   ]
  },
  {
   "cell_type": "code",
   "execution_count": 22,
   "metadata": {},
   "outputs": [
    {
     "data": {
      "text/plain": [
       "<matplotlib.axes._subplots.AxesSubplot at 0x2c542a61748>"
      ]
     },
     "execution_count": 22,
     "metadata": {},
     "output_type": "execute_result"
    },
    {
     "data": {
      "image/png": "[encoded data removed]",
      "text/plain": [
       "<matplotlib.figure.Figure at 0x2c542a8c438>"
      ]
     },
     "metadata": {},
     "output_type": "display_data"
    }
   ],
   "source": [
    "open_vs_job_sat.groupby('OpenSourcerNum').mean().plot.bar()"
   ]
  },
  {
   "cell_type": "markdown",
   "metadata": {},
   "source": [
    "## Conclusion\n",
    "Weak positive correlation"
   ]
  },
  {
   "cell_type": "markdown",
   "metadata": {},
   "source": [
    "## Salary vs org size"
   ]
  },
  {
   "cell_type": "code",
   "execution_count": 23,
   "metadata": {},
   "outputs": [
    {
     "data": {
      "text/html": [
       "<div>\n",
       "<style scoped>\n",
       "    .dataframe tbody tr th:only-of-type {\n",
       "        vertical-align: middle;\n",
       "    }\n",
       "\n",
       "    .dataframe tbody tr th {\n",
       "        vertical-align: top;\n",
       "    }\n",
       "\n",
       "    .dataframe thead th {\n",
       "        text-align: right;\n",
       "    }\n",
       "</style>\n",
       "<table border=\"1\" class=\"dataframe\">\n",
       "  <thead>\n",
       "    <tr style=\"text-align: right;\">\n",
       "      <th></th>\n",
       "      <th>ConvertedComp</th>\n",
       "    </tr>\n",
       "    <tr>\n",
       "      <th>OrgSize</th>\n",
       "      <th></th>\n",
       "    </tr>\n",
       "  </thead>\n",
       "  <tbody>\n",
       "    <tr>\n",
       "      <th>10 to 19 employees</th>\n",
       "      <td>93326.648099</td>\n",
       "    </tr>\n",
       "    <tr>\n",
       "      <th>2-9 employees</th>\n",
       "      <td>96194.104392</td>\n",
       "    </tr>\n",
       "    <tr>\n",
       "      <th>20 to 99 employees</th>\n",
       "      <td>113087.820770</td>\n",
       "    </tr>\n",
       "    <tr>\n",
       "      <th>Just me - I am a freelancer, sole proprietor, etc.</th>\n",
       "      <td>113136.930323</td>\n",
       "    </tr>\n",
       "    <tr>\n",
       "      <th>100 to 499 employees</th>\n",
       "      <td>127505.799209</td>\n",
       "    </tr>\n",
       "    <tr>\n",
       "      <th>500 to 999 employees</th>\n",
       "      <td>128330.767649</td>\n",
       "    </tr>\n",
       "    <tr>\n",
       "      <th>1,000 to 4,999 employees</th>\n",
       "      <td>143154.719254</td>\n",
       "    </tr>\n",
       "    <tr>\n",
       "      <th>5,000 to 9,999 employees</th>\n",
       "      <td>157500.936252</td>\n",
       "    </tr>\n",
       "    <tr>\n",
       "      <th>10,000 or more employees</th>\n",
       "      <td>175389.058928</td>\n",
       "    </tr>\n",
       "  </tbody>\n",
       "</table>\n",
       "</div>"
      ],
      "text/plain": [
       "                                                    ConvertedComp\n",
       "OrgSize                                                          \n",
       "10 to 19 employees                                   93326.648099\n",
       "2-9 employees                                        96194.104392\n",
       "20 to 99 employees                                  113087.820770\n",
       "Just me - I am a freelancer, sole proprietor, etc.  113136.930323\n",
       "100 to 499 employees                                127505.799209\n",
       "500 to 999 employees                                128330.767649\n",
       "1,000 to 4,999 employees                            143154.719254\n",
       "5,000 to 9,999 employees                            157500.936252\n",
       "10,000 or more employees                            175389.058928"
      ]
     },
     "execution_count": 23,
     "metadata": {},
     "output_type": "execute_result"
    }
   ],
   "source": [
    "sal_vs_size = df[['ConvertedComp','OrgSize']].dropna(how='any')\n",
    "grouped = sal_vs_size.groupby('OrgSize')\n",
    "means = grouped.mean()\n",
    "means.sort_values('ConvertedComp')"
   ]
  },
  {
   "cell_type": "code",
   "execution_count": 24,
   "metadata": {},
   "outputs": [
    {
     "data": {
      "text/plain": [
       "1.8793155176478151"
      ]
     },
     "execution_count": 24,
     "metadata": {},
     "output_type": "execute_result"
    }
   ],
   "source": [
    "175389/93326"
   ]
  },
  {
   "cell_type": "markdown",
   "metadata": {},
   "source": [
    "## Conclusion\n",
    "Larger organisations strictly pay more. ~2 times in the best case scenario. "
   ]
  },
  {
   "cell_type": "markdown",
   "metadata": {},
   "source": [
    "## Salary vs years of experience"
   ]
  },
  {
   "cell_type": "code",
   "execution_count": 25,
   "metadata": {},
   "outputs": [],
   "source": [
    "americans = df[df['Country'] == 'United States']"
   ]
  },
  {
   "cell_type": "code",
   "execution_count": 26,
   "metadata": {},
   "outputs": [
    {
     "data": {
      "text/html": [
       "<div>\n",
       "<style scoped>\n",
       "    .dataframe tbody tr th:only-of-type {\n",
       "        vertical-align: middle;\n",
       "    }\n",
       "\n",
       "    .dataframe tbody tr th {\n",
       "        vertical-align: top;\n",
       "    }\n",
       "\n",
       "    .dataframe thead th {\n",
       "        text-align: right;\n",
       "    }\n",
       "</style>\n",
       "<table border=\"1\" class=\"dataframe\">\n",
       "  <thead>\n",
       "    <tr style=\"text-align: right;\">\n",
       "      <th></th>\n",
       "      <th>ConvertedComp</th>\n",
       "      <th>YearsCodePro</th>\n",
       "    </tr>\n",
       "  </thead>\n",
       "  <tbody>\n",
       "    <tr>\n",
       "      <th>ConvertedComp</th>\n",
       "      <td>1.000000</td>\n",
       "      <td>0.010887</td>\n",
       "    </tr>\n",
       "    <tr>\n",
       "      <th>YearsCodePro</th>\n",
       "      <td>0.010887</td>\n",
       "      <td>1.000000</td>\n",
       "    </tr>\n",
       "  </tbody>\n",
       "</table>\n",
       "</div>"
      ],
      "text/plain": [
       "               ConvertedComp  YearsCodePro\n",
       "ConvertedComp       1.000000      0.010887\n",
       "YearsCodePro        0.010887      1.000000"
      ]
     },
     "execution_count": 26,
     "metadata": {},
     "output_type": "execute_result"
    }
   ],
   "source": [
    "def get_sal_vs_exp(ddf):\n",
    "    sal_vs_exp = ddf[['ConvertedComp','YearsCodePro']].dropna(how='any')\n",
    "    sal_vs_exp = sal_vs_exp[sal_vs_exp['YearsCodePro'] != 'Less than 1 year']\n",
    "    sal_vs_exp = sal_vs_exp[sal_vs_exp['YearsCodePro'] != 'More than 50 years']\n",
    "    sal_vs_exp['YearsCodePro'] = pd.to_numeric(sal_vs_exp['YearsCodePro'])\n",
    "    return sal_vs_exp\n",
    "sal_vs_exp = get_sal_vs_exp(americans)\n",
    "sal_vs_exp.corr()"
   ]
  },
  {
   "cell_type": "code",
   "execution_count": 27,
   "metadata": {},
   "outputs": [
    {
     "data": {
      "text/plain": [
       "<matplotlib.axes._subplots.AxesSubplot at 0x2c542abd668>"
      ]
     },
     "execution_count": 27,
     "metadata": {},
     "output_type": "execute_result"
    },
    {
     "data": {
      "image/png": "[encoded data removed]",
      "text/plain": [
       "<matplotlib.figure.Figure at 0x2c542a84f60>"
      ]
     },
     "metadata": {},
     "output_type": "display_data"
    }
   ],
   "source": [
    "sal_vs_exp.plot.scatter(x='YearsCodePro',y='ConvertedComp')"
   ]
  },
  {
   "cell_type": "markdown",
   "metadata": {},
   "source": [
    "## Conclusion\n",
    "More data cleaning needed.\n",
    "\n",
    "The official analysis does it much better.\n",
    "https://insights.stackoverflow.com/survey/2019#work-_-salary-and-experience-by-developer-type\n",
    "\n",
    "10% annual raise (roughly)"
   ]
  },
  {
   "cell_type": "markdown",
   "metadata": {},
   "source": [
    "## Years of code vs job satisfaction"
   ]
  },
  {
   "cell_type": "code",
   "execution_count": 28,
   "metadata": {},
   "outputs": [],
   "source": [
    "def yoc_js(ddf):\n",
    "    age_vs_sat = ddf[['YearsCodePro','JobSat']].dropna(how='any')\n",
    "    age_vs_sat = age_vs_sat[age_vs_sat['YearsCodePro'] != 'Less than 1 year']\n",
    "    age_vs_sat = age_vs_sat[age_vs_sat['YearsCodePro'] != 'More than 50 years']\n",
    "    age_vs_sat['YearsCodePro'] = pd.to_numeric(age_vs_sat['YearsCodePro'])\n",
    "    age_vs_sat['JobSatNum'] = age_vs_sat.apply(lambda row: sat_mapper_lut[row['JobSat']], axis=1)\n",
    "    age_vs_sat = age_vs_sat[['YearsCodePro','JobSatNum']]\n",
    "    return age_vs_sat"
   ]
  },
  {
   "cell_type": "code",
   "execution_count": 29,
   "metadata": {},
   "outputs": [
    {
     "name": "stderr",
     "output_type": "stream",
     "text": [
      "c:\\users\\windows\\appdata\\local\\programs\\python\\python35\\lib\\site-packages\\scipy\\stats\\stats.py:1706: FutureWarning: Using a non-tuple sequence for multidimensional indexing is deprecated; use `arr[tuple(seq)]` instead of `arr[seq]`. In the future this will be interpreted as an array index, `arr[np.array(seq)]`, which will result either in an error or a different result.\n",
      "  return np.add.reduce(sorted[indexer] * weights, axis=axis) / sumval\n"
     ]
    },
    {
     "data": {
      "image/png": "[encoded data removed]",
      "text/plain": [
       "<matplotlib.figure.Figure at 0x2c54349b588>"
      ]
     },
     "metadata": {},
     "output_type": "display_data"
    }
   ],
   "source": [
    "age_vs_sat = yoc_js(df[df['Country'] == 'India'])\n",
    "ax = sns.lineplot(x=\"YearsCodePro\", y=\"JobSatNum\", data=age_vs_sat)"
   ]
  },
  {
   "cell_type": "code",
   "execution_count": 30,
   "metadata": {},
   "outputs": [
    {
     "name": "stderr",
     "output_type": "stream",
     "text": [
      "c:\\users\\windows\\appdata\\local\\programs\\python\\python35\\lib\\site-packages\\scipy\\stats\\stats.py:1706: FutureWarning: Using a non-tuple sequence for multidimensional indexing is deprecated; use `arr[tuple(seq)]` instead of `arr[seq]`. In the future this will be interpreted as an array index, `arr[np.array(seq)]`, which will result either in an error or a different result.\n",
      "  return np.add.reduce(sorted[indexer] * weights, axis=axis) / sumval\n"
     ]
    },
    {
     "data": {
      "image/png": "[encoded data removed]",
      "text/plain": [
       "<matplotlib.figure.Figure at 0x2c54295f630>"
      ]
     },
     "metadata": {},
     "output_type": "display_data"
    }
   ],
   "source": [
    "age_vs_sat = yoc_js(df[df['Country'] == 'United States'])\n",
    "ax = sns.lineplot(x=\"YearsCodePro\", y=\"JobSatNum\", data=age_vs_sat)"
   ]
  },
  {
   "cell_type": "markdown",
   "metadata": {},
   "source": [
    "## Conclusion\n",
    "Pretty flat in USA. Sharp rise and high variance in India."
   ]
  },
  {
   "cell_type": "code",
   "execution_count": null,
   "metadata": {},
   "outputs": [],
   "source": []
  }
 ],
 "metadata": {
  "kernelspec": {
   "display_name": "Python 3",
   "language": "python",
   "name": "python3"
  },
  "language_info": {
   "codemirror_mode": {
    "name": "ipython",
    "version": 3
   },
   "file_extension": ".py",
   "mimetype": "text/x-python",
   "name": "python",
   "nbconvert_exporter": "python",
   "pygments_lexer": "ipython3",
   "version": "3.5.2"
  }
 },
 "nbformat": 4,
 "nbformat_minor": 2
}
